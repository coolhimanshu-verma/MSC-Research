{
  "nbformat": 4,
  "nbformat_minor": 0,
  "metadata": {
    "colab": {
      "name": "clickbait_mm_transfer_learning_tfrec.ipynb",
      "provenance": [],
      "collapsed_sections": [
        "6c5Z4mvpETfk",
        "xDpkuomFEXnX",
        "R_TiIhN3EaLk",
        "luqotE4nFrVC"
      ],
      "mount_file_id": "1VKtrLm8i6kfqN06bzLAPBdBzQ-7uSeZw",
      "authorship_tag": "ABX9TyNpwokx9wNu0vTev+bNfI74",
      "include_colab_link": true
    },
    "kernelspec": {
      "name": "python3",
      "display_name": "Python 3"
    },
    "language_info": {
      "name": "python"
    },
    "accelerator": "GPU"
  },
  "cells": [
    {
      "cell_type": "markdown",
      "metadata": {
        "id": "view-in-github",
        "colab_type": "text"
      },
      "source": [
        "<a href=\"https://colab.research.google.com/github/rahul94jh/MSC-Research/blob/main/clickbait_mm_transfer_learning_tfrec.ipynb\" target=\"_parent\"><img src=\"https://colab.research.google.com/assets/colab-badge.svg\" alt=\"Open In Colab\"/></a>"
      ]
    },
    {
      "cell_type": "markdown",
      "metadata": {
        "id": "6c5Z4mvpETfk"
      },
      "source": [
        "#Setup"
      ]
    },
    {
      "cell_type": "code",
      "metadata": {
        "id": "CfJ9BpMLELyo"
      },
      "source": [
        ""
      ],
      "execution_count": 132,
      "outputs": []
    },
    {
      "cell_type": "markdown",
      "metadata": {
        "id": "xDpkuomFEXnX"
      },
      "source": [
        "#Imports"
      ]
    },
    {
      "cell_type": "code",
      "metadata": {
        "id": "-JZKGxbFEYgV"
      },
      "source": [
        "import os, sys, math\n",
        "import numpy as np\n",
        "import random\n",
        "import pandas as pd\n",
        "from matplotlib import pyplot as plt\n",
        "\n",
        "import seaborn as sns\n",
        "\n",
        "import tensorflow as tf\n",
        "import tensorflow_hub as hub\n",
        "#print(\"Tensorflow version \" + tf.__version__)\n",
        "\n",
        "AUTO = tf.data.experimental.AUTOTUNE # used in tf.data.Dataset API\n",
        "\n",
        "import keras\n",
        "from keras import layers, regularizers, optimizers\n",
        "from keras.layers import Dense, Add, Flatten, Input, Activation, Embedding, Conv1D, GlobalMaxPooling1D, Dropout, Lambda, concatenate\n",
        "from keras.models import Sequential, Model, load_model\n",
        "from sklearn.model_selection import StratifiedShuffleSplit\n",
        "from keras.callbacks import EarlyStopping, ModelCheckpoint\n",
        "import keras.backend as K\n",
        "\n",
        "from sklearn.utils import shuffle\n",
        "from sklearn.metrics.pairwise import cosine_similarity\n",
        "from sklearn.metrics import roc_auc_score\n",
        "from sklearn.metrics import confusion_matrix\n",
        "from sklearn.metrics import accuracy_score\n",
        "from sklearn.metrics import precision_score\n",
        "from sklearn.metrics import recall_score\n",
        "from sklearn.metrics import f1_score\n",
        "from sklearn.metrics import cohen_kappa_score\n"
      ],
      "execution_count": 133,
      "outputs": []
    },
    {
      "cell_type": "markdown",
      "metadata": {
        "id": "R_TiIhN3EaLk"
      },
      "source": [
        "#Configurations"
      ]
    },
    {
      "cell_type": "code",
      "metadata": {
        "id": "NuH6w61bEbnk"
      },
      "source": [
        "PATH_OUTPUT = '/content/drive/MyDrive/Colab Notebooks/Clickbait detection/clickbait_dataset/tfrec_data/'\n",
        "TARGET_SIZE = [180, 180]\n",
        "CLASSES = [b'nonclickbaits', b'clickbaits'] \n",
        "BATCH_SIZE = 32  # On Colab/GPU, a higher batch size does not help and sometimes does not fit on the GPU (OOM)\n",
        "VALIDATION_SPLIT = 0.3\n",
        "TESTING_SPLIT = 0.5\n",
        "WIDTH = 180\n",
        "HEIGHT = 180"
      ],
      "execution_count": 134,
      "outputs": []
    },
    {
      "cell_type": "code",
      "metadata": {
        "colab": {
          "base_uri": "https://localhost:8080/"
        },
        "id": "eGBIgj_RIgT8",
        "outputId": "2d6c20c9-bf6a-4ea8-a312-7d04baa74233"
      },
      "source": [
        "# splitting data files between training, validation and test\n",
        "filenames = tf.io.gfile.glob(PATH_OUTPUT + \"*.tfrec\")\n",
        "split = int(len(filenames) * VALIDATION_SPLIT)\n",
        "training_filenames = filenames[split:]\n",
        "intermediate_filenames = filenames[:split]\n",
        "test_split = int(len(intermediate_filenames) * TESTING_SPLIT)\n",
        "validation_filenames = intermediate_filenames[test_split:]\n",
        "testing_filenames = intermediate_filenames[:test_split]\n",
        "\n",
        "print(\"Pattern matches {} data files. Splitting dataset into {} training files , {} validation files and {} test files\".format(len(filenames), len(training_filenames), len(validation_filenames), len(testing_filenames)))\n",
        "validation_steps = int(15572 // len(filenames) * len(validation_filenames)) // BATCH_SIZE\n",
        "steps_per_epoch = int(15572 // len(filenames) * len(training_filenames)) // BATCH_SIZE\n",
        "print(\"With a batch size of {}, there will be {} batches per training epoch and {} batch(es) per validation run.\".format(BATCH_SIZE, steps_per_epoch, validation_steps))"
      ],
      "execution_count": 135,
      "outputs": [
        {
          "output_type": "stream",
          "text": [
            "Pattern matches 16 data files. Splitting dataset into 12 training files , 2 validation files and 2 test files\n",
            "With a batch size of 32, there will be 364 batches per training epoch and 60 batch(es) per validation run.\n"
          ],
          "name": "stdout"
        }
      ]
    },
    {
      "cell_type": "code",
      "metadata": {
        "cellView": "form",
        "id": "psa9ra3pFYdu"
      },
      "source": [
        "#@title \"Utilities - RUN ME\"\n",
        "def display_9_images_from_dataset(dataset):\n",
        "  plt.figure(figsize=(13,13))\n",
        "  subplot=331\n",
        "  for i, ((image,text), label) in enumerate(dataset):\n",
        "    plt.subplot(subplot)\n",
        "    plt.axis('off')\n",
        "    plt.imshow(image.numpy().astype(np.uint8))\n",
        "    plt.title(CLASSES[label.numpy()], fontsize=16)\n",
        "    subplot += 1\n",
        "    if i==8:\n",
        "      break\n",
        "  #plt.tight_layout()\n",
        "  plt.subplots_adjust(wspace=0.1, hspace=0.1)\n",
        "  plt.show()\n",
        "\n",
        "def read_tfrecord(example):\n",
        "    features = {\n",
        "        \"image\": tf.io.FixedLenFeature([], tf.string),  # tf.string = bytestring (not text string)\n",
        "        \"class\": tf.io.FixedLenFeature([], tf.int64),   # shape [] means scalar\n",
        "        \"text\": tf.io.FixedLenFeature([], tf.string),\n",
        "        \n",
        "        # additional (not very useful) fields to demonstrate TFRecord writing/reading of different types of data\n",
        "        \"label\":         tf.io.FixedLenFeature([], tf.string),  # one bytestring\n",
        "        \"size\":          tf.io.FixedLenFeature([2], tf.int64)  # two integers\n",
        "    }\n",
        "    # decode the TFRecord\n",
        "    example = tf.io.parse_single_example(example, features)\n",
        "    \n",
        "    # FixedLenFeature fields are now ready to use: exmple['size']\n",
        "    # VarLenFeature fields require additional sparse_to_dense decoding\n",
        "    \n",
        "    image = tf.image.decode_jpeg(example['image'], channels=3)\n",
        "    image = tf.reshape(image, [*TARGET_SIZE, 3])\n",
        "    \n",
        "    class_num = example['class']\n",
        "    text = example['text']\n",
        "    label  = example['label']\n",
        "    height = example['size'][0]\n",
        "    width  = example['size'][1]\n",
        "    return image, text, class_num, label, height, width\n",
        "\n",
        "def load_dataset(filenames):\n",
        "  # read from TFRecords. For optimal performance, read from multiple\n",
        "  # TFRecord files at once and set the option experimental_deterministic = False\n",
        "  # to allow order-altering optimizations.\n",
        "\n",
        "  option_no_order = tf.data.Options()\n",
        "  option_no_order.experimental_deterministic = False\n",
        "\n",
        "  dataset = tf.data.TFRecordDataset(filenames, num_parallel_reads=AUTO)\n",
        "  dataset = dataset.with_options(option_no_order)\n",
        "  dataset = dataset.map(read_tfrecord, num_parallel_calls=AUTO)\n",
        "  dataset = dataset.map(lambda image, text, class_num, label, height, width: ((image,text), class_num))\n",
        "  return dataset\n",
        "\n",
        "def get_batched_dataset(filenames, train=False):\n",
        "  dataset = load_dataset(filenames)\n",
        "  dataset = dataset.cache() # This dataset fits in RAM\n",
        "  if train:\n",
        "    # Best practices for Keras:\n",
        "    # Training dataset: repeat then batch\n",
        "    # Evaluation dataset: do not repeat\n",
        "    dataset = dataset.shuffle(10000)\n",
        "    dataset = dataset.repeat()\n",
        "  dataset = dataset.batch(BATCH_SIZE)\n",
        "  dataset = dataset.prefetch(AUTO) # prefetch next batch while training (autotune prefetch buffer size)\n",
        "  # should shuffle too but this dataset was well shuffled on disk already\n",
        "  return dataset\n",
        "  # source: Dataset performance guide: https://www.tensorflow.org/guide/performance/datasets\n",
        "\n",
        "def create_image_model():\n",
        "  base_model = keras.applications.Xception(\n",
        "    weights=\"imagenet\",  # Load weights pre-trained on ImageNet.\n",
        "    input_shape=(WIDTH, HEIGHT, 3),\n",
        "    include_top=False,\n",
        "  )  \n",
        "  # Freeze the base_model\n",
        "  base_model.trainable = False\n",
        "  # Create new model on top\n",
        "  inputs = keras.Input(shape=(WIDTH, HEIGHT, 3))\n",
        "\n",
        "  norm_layer = keras.layers.experimental.preprocessing.Normalization()\n",
        "  mean = np.array([127.5] * 3)\n",
        "  var = mean ** 2\n",
        "  # Scale inputs to [-1, +1]\n",
        "  x = norm_layer(inputs)\n",
        "  norm_layer.set_weights([mean, var])\n",
        "\n",
        "  x = base_model(x, training=False)\n",
        "  x = keras.layers.GlobalAveragePooling2D()(x)\n",
        "  x = keras.layers.Dropout(0.2)(x)  # Regularize with dropout\n",
        "  x = keras.layers.Dense(512, activation='relu')(x)\n",
        "  x = keras.layers.Dropout(0.2)(x)\n",
        "  outputs = keras.layers.Lambda(lambda xz:K.l2_normalize(xz,axis=1))(x)\n",
        "  model = keras.Model(inputs, outputs)\n",
        "  return model \n",
        "\n",
        "def create_text_model():\n",
        "  text_model = tf.keras.models.Sequential()\n",
        "  text_model.add(hub.KerasLayer('https://tfhub.dev/google/universal-sentence-encoder/4', \n",
        "                        input_shape=[], \n",
        "                        dtype=tf.string, \n",
        "                         trainable=True))\n",
        "  text_model.add(Dropout(0.15))\n",
        "  text_model.add(tf.keras.layers.Dense(512, activation='relu'))\n",
        "  text_model.add(Dropout(0.15))\n",
        "  text_model.add(Lambda(lambda xz:K.l2_normalize(xz,axis=1)))\n",
        "  return text_model "
      ],
      "execution_count": 136,
      "outputs": []
    },
    {
      "cell_type": "markdown",
      "metadata": {
        "id": "luqotE4nFrVC"
      },
      "source": [
        "#Load data"
      ]
    },
    {
      "cell_type": "code",
      "metadata": {
        "id": "EoCRo488LYti"
      },
      "source": [
        "# instantiate the datasets\n",
        "train_ds = get_batched_dataset(training_filenames, train=True)\n",
        "val_ds = get_batched_dataset(validation_filenames, train=False)\n",
        "test_ds = get_batched_dataset(testing_filenames, train=False)"
      ],
      "execution_count": 137,
      "outputs": []
    },
    {
      "cell_type": "code",
      "metadata": {
        "colab": {
          "base_uri": "https://localhost:8080/"
        },
        "cellView": "form",
        "id": "61wSwWf-Mgch",
        "outputId": "0d759757-cdda-4edc-b52b-86f2fa82bb57"
      },
      "source": [
        "#@title \"Speed test\"\n",
        "for (image, text), class_num in train_ds.take(1):\n",
        "  for i in range(32):\n",
        "    print(f\"Image shape {image[i].shape}, Text {text[i]}, Class={class_num[i]}, Label={CLASSES[class_num[i]]}\")"
      ],
      "execution_count": 138,
      "outputs": [
        {
          "output_type": "stream",
          "text": [
            "Image shape (180, 180, 3), Text b'believe it or not flying is safer than ever with transasia flight crashing in taiwan this week after a year of several horrifying accidents it may seem like plane crashes are becoming more frequent but thankfully that s not what the statistics show subscribe to our channel vox com is news website that helps you cut through the noise and understand what s really driving the events in the headlines check out to get up to speed on everything from kurdistan to the kim kardashian app check out our full video catalog follow vox on twitter or on facebook', Class=0, Label=b'nonclickbaits'\n",
            "Image shape (180, 180, 3), Text b'goodbye london my social media links my instagram mo vlogs my sisters instagram lanarose my snapchat mohamedoo my sisters snapchat lana rose facebook twitter my sister s youtube channel', Class=1, Label=b'clickbaits'\n",
            "Image shape (180, 180, 3), Text b'st time going to the doctor in years st time going to the doctor in years leave a like if you enjoyed subscribe to join the wolf pack and follow twitter instagram facebook twitch my shirt store business inquires my gaming chair use code sss for off your order from gt omega racing channel art by', Class=1, Label=b'clickbaits'\n",
            "Image shape (180, 180, 3), Text b'bathroom story black ops multiplayer live bathroom story black ops multiplayer live funny awkward thing happened the other day how are your new years resolutions coming along hopefully better than mine lol ask me questions for ask wolf hit that like button in the face if you enjoyed and subscribe to join the wolf pack twitter instagram facebook twitch mobcrush my shirt store business inquires my headset my beast pc is an origin pc my energy drink use code sss for off your order from gamma my gaming chair use code sss for off your order from gt omega racing my keyboard and mouse channel art by', Class=1, Label=b'clickbaits'\n",
            "Image shape (180, 180, 3), Text b'failing a test all the fun of getting an f without any of that boring studying crap see more like us on follow us on follow us on', Class=0, Label=b'nonclickbaits'\n",
            "Image shape (180, 180, 3), Text b'the delicate science of counting crowds here s how we know how many people were in the crowd for donald trump s inauguration and why you won t hear the number on tv subscribe check out our full video catalog visit our playlists like the verge on facebook follow on twitter follow on instagram read more', Class=0, Label=b'nonclickbaits'\n",
            "Image shape (180, 180, 3), Text b'banned aw w clips sorry for the rant leave a like if you enjoyed subscribe my twitter my twitch my instagram song mitis life of sin', Class=1, Label=b'clickbaits'\n",
            "Image shape (180, 180, 3), Text b'i m home time to get ready for the project for awesome hank s how to p a video in which john briefly visits his house and films a bonus video to get everyone ready for the project for awesome subscribe to our newsletter and join the community at john s twitter john s tumblr hank s twitter hank s tumblr', Class=0, Label=b'nonclickbaits'\n",
            "Image shape (180, 180, 3), Text b'beginner php tutorial introduction to php facebook github google linkedin reddit support thenewboston twitter', Class=0, Label=b'nonclickbaits'\n",
            "Image shape (180, 180, 3), Text b'dumbest selfies ever follow me on twitter facebook new tank hats get them now dumbest selfies ever click here to subscribe website instagram what i use to record my gameplay where i get my controllers deji my app iphone android', Class=1, Label=b'clickbaits'\n",
            "Image shape (180, 180, 3), Text b'faze teeqo vs faze apex v sniping on advanced warfare snapchat teeqofaze subscribe thanks for watching love you guys faze teeqo', Class=1, Label=b'clickbaits'\n",
            "Image shape (180, 180, 3), Text b'bugatti surprise for my birthday my instagram mo vlogs my sisters instagram lanarose my snapchat mohamedoo my sisters snapchat lana rose twitter my sister s youtube channel lana s facebook my facebook page my email my sisters email lana rose', Class=1, Label=b'clickbaits'\n",
            "Image shape (180, 180, 3), Text b'this is what happens when you crack your knuckles get new merchandise here turn on my post notifications so you dont miss a video yesterdays vlog subscribe for daily vlogs follow me on twitter to stay updated when i post instagram facebook vine snapchat itslance fan mail box so black horse pike blackwood nj business email squad lizzy s channel lizzy s instagram adin s channel adin s instagram', Class=1, Label=b'clickbaits'\n",
            "Image shape (180, 180, 3), Text b'dawn of war unboxing the collector s edition we crack open a big box full of dawn of war goods including gabriel angelos iconic godsplitter daemon hammer total war warhammer reveal trailer theories analysis and hidden details dawn of war full faction overview total war warhammer official realm of the wood elves dlc trailer total war warhammer review follow ign for more ign official app facebook twitter instagram website google', Class=0, Label=b'nonclickbaits'\n",
            "Image shape (180, 180, 3), Text b'thin underwater cables hold the internet see a map of them all your internet isn t just underwater it s also covered in vaseline map by telegeography subscribe to our channel the internet is known to pulse through fiber optic cables and cell phone towers but of high speed international information is transferred under the sea how long has this been happening underwater cables delivering information isn t a novel idea the first transatlantic cable was laid in undersea cables have been around since the telegraph check out our full video catalog follow vox on twitter or on facebook', Class=0, Label=b'nonclickbaits'\n",
            "Image shape (180, 180, 3), Text b'craziest black friday fights st video of today prank guys i just had to share it with you if you ve never experienced witnessed what black friday shopping is it s a nightmare hope you enjoyed the video i also uploaded earlier so check out the video before as well thank you guys original video subscribe for daily content official rug apparel add me on snapchat thefazerug follow me on my social media to stay connected twitter instagram facebook snapchat thefazerug add me to see how i live my daily life d po box address faze rug p o box san diego ca use code rug for discounts on these products where i get my background music if you read this far down the description i love you', Class=1, Label=b'clickbaits'\n",
            "Image shape (180, 180, 3), Text b'insane taekwondo skills click here for more taekwondo follow us instagram twitter facebook reddit google plus parkour facebook footage from team m taekwondo music thefatrat monody thefatrat twitter facebook soundcloud for business inquiries contact', Class=0, Label=b'nonclickbaits'\n",
            "Image shape (180, 180, 3), Text b'robot chicken season trailer nycc see the dc comics special trailer here get a look at what s to come in the remainder of season including e t kicking ass a new kind of mortal kombat ending and more subscribe to ign s channel for reviews news and all things gaming robot chicken season trailer nycc', Class=0, Label=b'nonclickbaits'\n",
            "Image shape (180, 180, 3), Text b'vr porn is here and it s scary realistic mashable naughty america one of the u s s largest pornography production companies invited mashable s raymond wong to try out vr porn in las vegas hotel room and things got really weird read more in our full review mashable on youtube subscribe to mashable more from ces mashable across the web mashable com facebook twitter tumblr instagram google mashable is a leading global media company that informs inspires and entertains the digital generation', Class=0, Label=b'nonclickbaits'\n",
            "Image shape (180, 180, 3), Text b'ajax tutorial introduction to ajax facebook github google linkedin reddit support thenewboston twitter', Class=0, Label=b'nonclickbaits'\n",
            "Image shape (180, 180, 3), Text b'driving on the scariest road ever made dangerous i posted videos today check out the video i posted earlier get new merchandise here turn on my post notifications so you dont miss a video yesterdays vlog subscribe for daily vlogs follow me on twitter to stay updated when i post instagram facebook vine snapchat itslance fan mail box so black horse pike blackwood nj business email squad lizzy s channel lizzy s instagram adin s channel adin s instagram', Class=1, Label=b'clickbaits'\n",
            "Image shape (180, 180, 3), Text b'buckys c programming tutorials functions facebook github google linkedin reddit support thenewboston twitter', Class=0, Label=b'nonclickbaits'\n",
            "Image shape (180, 180, 3), Text b'god s diary is embarrassing like us on the good book has some bad writing see more follow us on follow us on', Class=0, Label=b'nonclickbaits'\n",
            "Image shape (180, 180, 3), Text b'idk what happened hiiii guys i m a very competitive person please understand where i m coming from not only that but as a female in a male dominated community there is often harsh criticism or doubt regarding my skill and ability to play hit that like button in the face and subscribe to join the wolf pack follow me twitter instagram facebook twitch mobcrush my shirt store business inquires my energy drink use code sss for off your order from gamma my gaming chair use code sss for off your order from gt omega racing channel art by', Class=1, Label=b'clickbaits'\n",
            "Image shape (180, 180, 3), Text b'justin bieber prank calls a fan this fan got the phone call of her dreams a chat with justin bieber but it wasn t the kind she might have expected', Class=0, Label=b'nonclickbaits'\n",
            "Image shape (180, 180, 3), Text b'buckys c programming tutorials introduction to classes and objects facebook github google linkedin reddit support thenewboston twitter', Class=0, Label=b'nonclickbaits'\n",
            "Image shape (180, 180, 3), Text b'no more internet my social media links my instagram mo vlogs my sisters instagram lanarose my snapchat mohamedoo my sisters snapchat lana rose facebook twitter my sister s youtube channel', Class=1, Label=b'clickbaits'\n",
            "Image shape (180, 180, 3), Text b'most badass people of all time balls of steel visit our site like us on facebook follow us on twitter commentator music ethan meixsell march on most badass people of all time', Class=1, Label=b'clickbaits'\n",
            "Image shape (180, 180, 3), Text b'technology in what to expect mashable hosted a mashtalk hangout on air to discuss the year that was tech for as well as make predictions for tech in like us on facebook follow us on twitter follow us on tumblr follow our instagram join our circle on google plus subscribe mashable is the leading independent news site for all things tech social media and internet culture', Class=0, Label=b'nonclickbaits'\n",
            "Image shape (180, 180, 3), Text b'truths lie learning how to fly subscribe my apparel eric aviator instagram aviatorshow snapchat aviatorshow contact follow me snapchat teeqofaze subscribe thanks for watching love you guys faze teeqo', Class=1, Label=b'clickbaits'\n",
            "Image shape (180, 180, 3), Text b'industrial light magic on the verge bryan bishop visits special effects giant industrial light and magic to learn about what goes into blockbuster visual effects see full episodes of on the verge at more from the verge subscribe check out our full video catalog visit our playlists like the verge on facebook follow on twitter follow on instagram read more', Class=0, Label=b'nonclickbaits'\n",
            "Image shape (180, 180, 3), Text b'deaths caught live on camera in this video we look at fatalities caught live on camera this has got to be one of the saddest moments of a persons departure ever recorded the event was the dutch grand prix at the zandvoort circuit in the netherlands and the driver was roger williamson it was only williamsons second formula one appearance after his debut at the british grand prix as he was on his th lap it s thought that a tire failure caused his car to flip upside down and catch fire although he was not seriously injured by the accident it s self he was trapped under the car as it was engulfed in flames on april th a football match between liverpool and nottingham forest at the hillsborough stadium in sheffield england would turn in to the worst stadium disaster in english sports history and one of the worst football disasters in the world bbc cameras were televising the match and the unfolding disaster was broadcast live to millions across the united kingdom on that day people were crushed to death and injured the match was the fa cup semi final and because of the reputation for football violence at the time between the fans of different clubs a neutral venue was chosen the opposing fans were sectioned off from each other by fencing them in pens and contributed the problems that would ensue the crush occurred in the section allocated to the liverpool fans the entry to which was via only of old turnstiles this led to dangerous overcrowding outside the stadium for those trying to get in before the match started the challenger space shuttle disaster of january th not only ended the lives of the crew but also dealt a huge blow to the nasa and american national pride the shuttle took off from cape canaveral florida on an unusually cold january morning after days of delays and technical issues the makers of the solid rocket boosters srbs morton thiokol were concerned that the o rings that sealed the joints of the would not work correctly in the cold conditions on the morning of the launch they held discussions with nasa managers and urged the mission be postponed but the nasa staff already frustrated by the large number of previous delays opposed it even though the o rings in question were a criticality component meaning that if they failed there were no backups and their failure would mean the destruction of the entire craft and the loss of all on board on august nd a hawker hunter t vintage jet aircraft was performing at the shoreham air display at shoreham airport when as it was completing a loop maneuver it failed to pull up in time and crashed on to a busy main road running next to the airport its was the worst british airshow disaster since an accident at the farnborough airshow that killed spectators the hour le mans crash of in france has gone down as the deadliest crash in motor racing history and it was also caught on film in the le mans track was pretty much the same as it was when it first opened in but back then car were only capable of mph and by the race cars of the day were achieving up to mph and its this which had a major contribution to the death toll roger williamson burned to death trapped in his crashed formula car in the dutch grand prix hillsborough football stadium the worst disaster in football history people lost challenger shuttle explodes just after take off with the loss of all astronauts on board shoreham airshow vintage jet crashes on to a busy main road during an airshow le mans worst motor racing disaster in history with the loss of over people music used in this video androids always escape by chris zabriskie is licensed under a creative commons attribution licence source artist dreams become real by kevin macleod is licensed under a creative commons attribution licence source artist long road ahead by kevin macleod is licensed under a creative commons attribution licence source artist heartbreaking by kevin macleod is licensed under a creative commons attribution licence source artist', Class=1, Label=b'clickbaits'\n"
          ],
          "name": "stdout"
        }
      ]
    },
    {
      "cell_type": "code",
      "metadata": {
        "id": "96k5dKhBNDNE"
      },
      "source": [
        ""
      ],
      "execution_count": 138,
      "outputs": []
    },
    {
      "cell_type": "markdown",
      "metadata": {
        "id": "6agn6NigOrLW"
      },
      "source": [
        "#Build and compile model"
      ]
    },
    {
      "cell_type": "markdown",
      "metadata": {
        "id": "7P4hIhC0OySA"
      },
      "source": [
        "##Image model"
      ]
    },
    {
      "cell_type": "code",
      "metadata": {
        "colab": {
          "base_uri": "https://localhost:8080/"
        },
        "id": "WExBbixhRSXN",
        "outputId": "f04ef5c4-1af4-44d3-e798-afeb4c87c1bc"
      },
      "source": [
        "img_model = create_image_model()\n",
        "img_model.summary()"
      ],
      "execution_count": 139,
      "outputs": [
        {
          "output_type": "stream",
          "text": [
            "Model: \"model_13\"\n",
            "_________________________________________________________________\n",
            "Layer (type)                 Output Shape              Param #   \n",
            "=================================================================\n",
            "input_12 (InputLayer)        [(None, 180, 180, 3)]     0         \n",
            "_________________________________________________________________\n",
            "normalization_5 (Normalizati (None, 180, 180, 3)       7         \n",
            "_________________________________________________________________\n",
            "xception (Functional)        (None, 6, 6, 2048)        20861480  \n",
            "_________________________________________________________________\n",
            "global_average_pooling2d_5 ( (None, 2048)              0         \n",
            "_________________________________________________________________\n",
            "dropout_20 (Dropout)         (None, 2048)              0         \n",
            "_________________________________________________________________\n",
            "dense_46 (Dense)             (None, 512)               1049088   \n",
            "_________________________________________________________________\n",
            "dropout_21 (Dropout)         (None, 512)               0         \n",
            "_________________________________________________________________\n",
            "lambda_10 (Lambda)           (None, 512)               0         \n",
            "=================================================================\n",
            "Total params: 21,910,575\n",
            "Trainable params: 1,049,088\n",
            "Non-trainable params: 20,861,487\n",
            "_________________________________________________________________\n"
          ],
          "name": "stdout"
        }
      ]
    },
    {
      "cell_type": "markdown",
      "metadata": {
        "id": "2u93GhkpSboC"
      },
      "source": [
        "##Text model"
      ]
    },
    {
      "cell_type": "code",
      "metadata": {
        "colab": {
          "base_uri": "https://localhost:8080/"
        },
        "id": "pP8yl0ZcSzAF",
        "outputId": "f763063d-c9fe-400f-b7af-6d6335318f05"
      },
      "source": [
        "txt_model = create_text_model()\n",
        "txt_model.summary()"
      ],
      "execution_count": 140,
      "outputs": [
        {
          "output_type": "stream",
          "text": [
            "WARNING:tensorflow:8 out of the last 8 calls to <function recreate_function.<locals>.restored_function_body at 0x7f9a59019560> triggered tf.function retracing. Tracing is expensive and the excessive number of tracings could be due to (1) creating @tf.function repeatedly in a loop, (2) passing tensors with different shapes, (3) passing Python objects instead of tensors. For (1), please define your @tf.function outside of the loop. For (2), @tf.function has experimental_relax_shapes=True option that relaxes argument shapes that can avoid unnecessary retracing. For (3), please refer to https://www.tensorflow.org/guide/function#controlling_retracing and https://www.tensorflow.org/api_docs/python/tf/function for  more details.\n"
          ],
          "name": "stdout"
        },
        {
          "output_type": "stream",
          "text": [
            "WARNING:tensorflow:8 out of the last 8 calls to <function recreate_function.<locals>.restored_function_body at 0x7f9a59019560> triggered tf.function retracing. Tracing is expensive and the excessive number of tracings could be due to (1) creating @tf.function repeatedly in a loop, (2) passing tensors with different shapes, (3) passing Python objects instead of tensors. For (1), please define your @tf.function outside of the loop. For (2), @tf.function has experimental_relax_shapes=True option that relaxes argument shapes that can avoid unnecessary retracing. For (3), please refer to https://www.tensorflow.org/guide/function#controlling_retracing and https://www.tensorflow.org/api_docs/python/tf/function for  more details.\n"
          ],
          "name": "stderr"
        },
        {
          "output_type": "stream",
          "text": [
            "Model: \"sequential_5\"\n",
            "_________________________________________________________________\n",
            "Layer (type)                 Output Shape              Param #   \n",
            "=================================================================\n",
            "keras_layer_5 (KerasLayer)   (None, 512)               256797824 \n",
            "_________________________________________________________________\n",
            "dropout_22 (Dropout)         (None, 512)               0         \n",
            "_________________________________________________________________\n",
            "dense_47 (Dense)             (None, 512)               262656    \n",
            "_________________________________________________________________\n",
            "dropout_23 (Dropout)         (None, 512)               0         \n",
            "_________________________________________________________________\n",
            "lambda_11 (Lambda)           (None, 512)               0         \n",
            "=================================================================\n",
            "Total params: 257,060,480\n",
            "Trainable params: 257,060,480\n",
            "Non-trainable params: 0\n",
            "_________________________________________________________________\n"
          ],
          "name": "stdout"
        }
      ]
    },
    {
      "cell_type": "markdown",
      "metadata": {
        "id": "hwyuYRKMWIER"
      },
      "source": [
        "##Text-Image combined multi-modal model"
      ]
    },
    {
      "cell_type": "code",
      "metadata": {
        "colab": {
          "base_uri": "https://localhost:8080/"
        },
        "id": "awF9YtbVS384",
        "outputId": "0f1021e2-6e9e-4566-c729-d2697d9d5cc3"
      },
      "source": [
        "merged=concatenate([img_model.output,txt_model.output])\n",
        "out=Dense(512, activation='relu')(merged)\n",
        "out =Dense(256, activation='relu')(out)\n",
        "out =Dense(128, activation='relu')(out)\n",
        "out =Dense(1, activation='sigmoid')(out)\n",
        "final_model=Model([img_model.input,txt_model.input],out) \n",
        "final_model.summary()"
      ],
      "execution_count": 141,
      "outputs": [
        {
          "output_type": "stream",
          "text": [
            "Model: \"model_14\"\n",
            "__________________________________________________________________________________________________\n",
            "Layer (type)                    Output Shape         Param #     Connected to                     \n",
            "==================================================================================================\n",
            "input_12 (InputLayer)           [(None, 180, 180, 3) 0                                            \n",
            "__________________________________________________________________________________________________\n",
            "normalization_5 (Normalization) (None, 180, 180, 3)  7           input_12[0][0]                   \n",
            "__________________________________________________________________________________________________\n",
            "xception (Functional)           (None, 6, 6, 2048)   20861480    normalization_5[0][0]            \n",
            "__________________________________________________________________________________________________\n",
            "keras_layer_5_input (InputLayer [(None,)]            0                                            \n",
            "__________________________________________________________________________________________________\n",
            "global_average_pooling2d_5 (Glo (None, 2048)         0           xception[0][0]                   \n",
            "__________________________________________________________________________________________________\n",
            "keras_layer_5 (KerasLayer)      (None, 512)          256797824   keras_layer_5_input[0][0]        \n",
            "__________________________________________________________________________________________________\n",
            "dropout_20 (Dropout)            (None, 2048)         0           global_average_pooling2d_5[0][0] \n",
            "__________________________________________________________________________________________________\n",
            "dropout_22 (Dropout)            (None, 512)          0           keras_layer_5[0][0]              \n",
            "__________________________________________________________________________________________________\n",
            "dense_46 (Dense)                (None, 512)          1049088     dropout_20[0][0]                 \n",
            "__________________________________________________________________________________________________\n",
            "dense_47 (Dense)                (None, 512)          262656      dropout_22[0][0]                 \n",
            "__________________________________________________________________________________________________\n",
            "dropout_21 (Dropout)            (None, 512)          0           dense_46[0][0]                   \n",
            "__________________________________________________________________________________________________\n",
            "dropout_23 (Dropout)            (None, 512)          0           dense_47[0][0]                   \n",
            "__________________________________________________________________________________________________\n",
            "lambda_10 (Lambda)              (None, 512)          0           dropout_21[0][0]                 \n",
            "__________________________________________________________________________________________________\n",
            "lambda_11 (Lambda)              (None, 512)          0           dropout_23[0][0]                 \n",
            "__________________________________________________________________________________________________\n",
            "concatenate_9 (Concatenate)     (None, 1024)         0           lambda_10[0][0]                  \n",
            "                                                                 lambda_11[0][0]                  \n",
            "__________________________________________________________________________________________________\n",
            "dense_48 (Dense)                (None, 512)          524800      concatenate_9[0][0]              \n",
            "__________________________________________________________________________________________________\n",
            "dense_49 (Dense)                (None, 256)          131328      dense_48[0][0]                   \n",
            "__________________________________________________________________________________________________\n",
            "dense_50 (Dense)                (None, 128)          32896       dense_49[0][0]                   \n",
            "__________________________________________________________________________________________________\n",
            "dense_51 (Dense)                (None, 1)            129         dense_50[0][0]                   \n",
            "==================================================================================================\n",
            "Total params: 279,660,208\n",
            "Trainable params: 258,798,721\n",
            "Non-trainable params: 20,861,487\n",
            "__________________________________________________________________________________________________\n"
          ],
          "name": "stdout"
        }
      ]
    },
    {
      "cell_type": "code",
      "metadata": {
        "id": "fvECZjlhab_5"
      },
      "source": [
        "LOSS = keras.losses.BinaryCrossentropy(from_logits=True)\n",
        "OPTIMIZER = tf.keras.optimizers.RMSprop(lr=1.6192e-5)\n",
        "METRICS = [\n",
        "      keras.metrics.TruePositives(name='tp'),\n",
        "      keras.metrics.FalsePositives(name='fp'),\n",
        "      keras.metrics.TrueNegatives(name='tn'),\n",
        "      keras.metrics.FalseNegatives(name='fn'), \n",
        "      keras.metrics.BinaryAccuracy(name='accuracy'),\n",
        "      keras.metrics.Precision(name='precision'),\n",
        "      keras.metrics.Recall(name='recall'),\n",
        "      keras.metrics.AUC(name='auc'),\n",
        "      keras.metrics.AUC(name='prc', curve='PR'), # precision-recall curve\n",
        " ]"
      ],
      "execution_count": 142,
      "outputs": []
    },
    {
      "cell_type": "code",
      "metadata": {
        "id": "3JD1AfkLanmx"
      },
      "source": [
        "final_model.compile(\n",
        "    optimizer=OPTIMIZER,\n",
        "    loss=LOSS,\n",
        "    metrics=METRICS\n",
        "    )"
      ],
      "execution_count": 143,
      "outputs": []
    },
    {
      "cell_type": "markdown",
      "metadata": {
        "id": "9yX_lKz5Xic6"
      },
      "source": [
        "#Model Training"
      ]
    },
    {
      "cell_type": "code",
      "metadata": {
        "id": "1qhKAE18ckxT"
      },
      "source": [
        "#callbacks\n",
        "es = EarlyStopping(\n",
        "    monitor='val_prc', \n",
        "    verbose=1,\n",
        "    patience=10,\n",
        "    mode='max',\n",
        "    restore_best_weights=True\n",
        "    )"
      ],
      "execution_count": 144,
      "outputs": []
    },
    {
      "cell_type": "code",
      "metadata": {
        "colab": {
          "base_uri": "https://localhost:8080/"
        },
        "id": "SKEFz2AWXkJ2",
        "outputId": "80cfa2cd-3130-4a22-f7c5-99e57015c542"
      },
      "source": [
        "EPOCHS=50\n",
        "\n",
        "history = final_model.fit(\n",
        "  train_ds,\n",
        "  steps_per_epoch = steps_per_epoch,\n",
        "  validation_data=val_ds,\n",
        "  validation_steps=validation_steps,\n",
        "  epochs=EPOCHS,\n",
        "  verbose=1,\n",
        "  callbacks=[es]\n",
        ")"
      ],
      "execution_count": 145,
      "outputs": [
        {
          "output_type": "stream",
          "text": [
            "Epoch 1/50\n",
            "WARNING:tensorflow:9 out of the last 9 calls to <function recreate_function.<locals>.restored_function_body at 0x7f9a56877b00> triggered tf.function retracing. Tracing is expensive and the excessive number of tracings could be due to (1) creating @tf.function repeatedly in a loop, (2) passing tensors with different shapes, (3) passing Python objects instead of tensors. For (1), please define your @tf.function outside of the loop. For (2), @tf.function has experimental_relax_shapes=True option that relaxes argument shapes that can avoid unnecessary retracing. For (3), please refer to https://www.tensorflow.org/guide/function#controlling_retracing and https://www.tensorflow.org/api_docs/python/tf/function for  more details.\n"
          ],
          "name": "stdout"
        },
        {
          "output_type": "stream",
          "text": [
            "WARNING:tensorflow:9 out of the last 9 calls to <function recreate_function.<locals>.restored_function_body at 0x7f9a56877b00> triggered tf.function retracing. Tracing is expensive and the excessive number of tracings could be due to (1) creating @tf.function repeatedly in a loop, (2) passing tensors with different shapes, (3) passing Python objects instead of tensors. For (1), please define your @tf.function outside of the loop. For (2), @tf.function has experimental_relax_shapes=True option that relaxes argument shapes that can avoid unnecessary retracing. For (3), please refer to https://www.tensorflow.org/guide/function#controlling_retracing and https://www.tensorflow.org/api_docs/python/tf/function for  more details.\n"
          ],
          "name": "stderr"
        },
        {
          "output_type": "stream",
          "text": [
            "364/364 [==============================] - 74s 160ms/step - loss: 0.6395 - tp: 2533.0137 - fp: 964.1562 - tn: 2184.7507 - fn: 173.9918 - accuracy: 0.7441 - precision: 0.6754 - recall: 0.9480 - auc: 0.8827 - prc: 0.8716 - val_loss: 0.2940 - val_tp: 786.0000 - val_fp: 52.0000 - val_tn: 1001.0000 - val_fn: 81.0000 - val_accuracy: 0.9307 - val_precision: 0.9379 - val_recall: 0.9066 - val_auc: 0.9717 - val_prc: 0.9735\n",
            "Epoch 2/50\n",
            "364/364 [==============================] - 56s 154ms/step - loss: 0.2545 - tp: 2473.7178 - fp: 136.2384 - tn: 3004.1096 - fn: 241.8466 - accuracy: 0.9337 - precision: 0.9463 - recall: 0.9083 - auc: 0.9722 - prc: 0.9747 - val_loss: 0.1478 - val_tp: 800.0000 - val_fp: 33.0000 - val_tn: 1020.0000 - val_fn: 67.0000 - val_accuracy: 0.9479 - val_precision: 0.9604 - val_recall: 0.9227 - val_auc: 0.9863 - val_prc: 0.9862\n",
            "Epoch 3/50\n",
            "364/364 [==============================] - 57s 156ms/step - loss: 0.1293 - tp: 2534.0658 - fp: 88.9945 - tn: 3050.3616 - fn: 182.4904 - accuracy: 0.9532 - precision: 0.9667 - recall: 0.9323 - auc: 0.9905 - prc: 0.9906 - val_loss: 0.1037 - val_tp: 827.0000 - val_fp: 31.0000 - val_tn: 1022.0000 - val_fn: 40.0000 - val_accuracy: 0.9630 - val_precision: 0.9639 - val_recall: 0.9539 - val_auc: 0.9915 - val_prc: 0.9901\n",
            "Epoch 4/50\n",
            "364/364 [==============================] - 57s 156ms/step - loss: 0.0901 - tp: 2600.0247 - fp: 68.6521 - tn: 3066.9479 - fn: 120.2877 - accuracy: 0.9664 - precision: 0.9726 - recall: 0.9555 - auc: 0.9951 - prc: 0.9943 - val_loss: 0.0956 - val_tp: 832.0000 - val_fp: 24.0000 - val_tn: 1029.0000 - val_fn: 35.0000 - val_accuracy: 0.9693 - val_precision: 0.9720 - val_recall: 0.9596 - val_auc: 0.9928 - val_prc: 0.9916\n",
            "Epoch 5/50\n",
            "364/364 [==============================] - 57s 157ms/step - loss: 0.0811 - tp: 2596.4411 - fp: 60.7425 - tn: 3099.7726 - fn: 98.9562 - accuracy: 0.9710 - precision: 0.9754 - recall: 0.9616 - auc: 0.9952 - prc: 0.9946 - val_loss: 0.0958 - val_tp: 835.0000 - val_fp: 27.0000 - val_tn: 1026.0000 - val_fn: 32.0000 - val_accuracy: 0.9693 - val_precision: 0.9687 - val_recall: 0.9631 - val_auc: 0.9932 - val_prc: 0.9922\n",
            "Epoch 6/50\n",
            "364/364 [==============================] - 57s 157ms/step - loss: 0.0646 - tp: 2631.5425 - fp: 56.2329 - tn: 3087.5699 - fn: 80.5671 - accuracy: 0.9763 - precision: 0.9792 - recall: 0.9699 - auc: 0.9968 - prc: 0.9960 - val_loss: 0.0945 - val_tp: 836.0000 - val_fp: 27.0000 - val_tn: 1026.0000 - val_fn: 31.0000 - val_accuracy: 0.9698 - val_precision: 0.9687 - val_recall: 0.9642 - val_auc: 0.9936 - val_prc: 0.9926\n",
            "Epoch 7/50\n",
            "364/364 [==============================] - 58s 158ms/step - loss: 0.0557 - tp: 2631.5068 - fp: 51.4658 - tn: 3105.9315 - fn: 67.0082 - accuracy: 0.9811 - precision: 0.9824 - recall: 0.9767 - auc: 0.9974 - prc: 0.9964 - val_loss: 0.0944 - val_tp: 842.0000 - val_fp: 32.0000 - val_tn: 1021.0000 - val_fn: 25.0000 - val_accuracy: 0.9703 - val_precision: 0.9634 - val_recall: 0.9712 - val_auc: 0.9929 - val_prc: 0.9905\n",
            "Epoch 8/50\n",
            "364/364 [==============================] - 57s 158ms/step - loss: 0.0496 - tp: 2641.3699 - fp: 44.9479 - tn: 3108.3562 - fn: 61.2384 - accuracy: 0.9820 - precision: 0.9823 - recall: 0.9784 - auc: 0.9979 - prc: 0.9973 - val_loss: 0.0924 - val_tp: 843.0000 - val_fp: 30.0000 - val_tn: 1023.0000 - val_fn: 24.0000 - val_accuracy: 0.9719 - val_precision: 0.9656 - val_recall: 0.9723 - val_auc: 0.9932 - val_prc: 0.9907\n",
            "Epoch 9/50\n",
            "364/364 [==============================] - 57s 158ms/step - loss: 0.0531 - tp: 2666.2110 - fp: 50.6849 - tn: 3075.0356 - fn: 63.9808 - accuracy: 0.9812 - precision: 0.9819 - recall: 0.9777 - auc: 0.9975 - prc: 0.9963 - val_loss: 0.0923 - val_tp: 835.0000 - val_fp: 22.0000 - val_tn: 1031.0000 - val_fn: 32.0000 - val_accuracy: 0.9719 - val_precision: 0.9743 - val_recall: 0.9631 - val_auc: 0.9943 - val_prc: 0.9932\n",
            "Epoch 10/50\n",
            "364/364 [==============================] - 57s 158ms/step - loss: 0.0463 - tp: 2654.5699 - fp: 46.2630 - tn: 3099.5096 - fn: 55.5699 - accuracy: 0.9827 - precision: 0.9832 - recall: 0.9797 - auc: 0.9983 - prc: 0.9974 - val_loss: 0.0936 - val_tp: 834.0000 - val_fp: 20.0000 - val_tn: 1033.0000 - val_fn: 33.0000 - val_accuracy: 0.9724 - val_precision: 0.9766 - val_recall: 0.9619 - val_auc: 0.9939 - val_prc: 0.9930\n",
            "Epoch 11/50\n",
            "364/364 [==============================] - 57s 157ms/step - loss: 0.0394 - tp: 2662.8164 - fp: 34.4685 - tn: 3114.7616 - fn: 43.8658 - accuracy: 0.9868 - precision: 0.9873 - recall: 0.9840 - auc: 0.9984 - prc: 0.9978 - val_loss: 0.0916 - val_tp: 838.0000 - val_fp: 21.0000 - val_tn: 1032.0000 - val_fn: 29.0000 - val_accuracy: 0.9740 - val_precision: 0.9756 - val_recall: 0.9666 - val_auc: 0.9935 - val_prc: 0.9920\n",
            "Epoch 12/50\n",
            "364/364 [==============================] - 57s 157ms/step - loss: 0.0348 - tp: 2668.7781 - fp: 33.1507 - tn: 3112.4959 - fn: 41.4877 - accuracy: 0.9884 - precision: 0.9892 - recall: 0.9857 - auc: 0.9986 - prc: 0.9979 - val_loss: 0.0932 - val_tp: 836.0000 - val_fp: 20.0000 - val_tn: 1033.0000 - val_fn: 31.0000 - val_accuracy: 0.9734 - val_precision: 0.9766 - val_recall: 0.9642 - val_auc: 0.9941 - val_prc: 0.9932\n",
            "Epoch 13/50\n",
            "364/364 [==============================] - 57s 157ms/step - loss: 0.0372 - tp: 2663.4795 - fp: 29.7315 - tn: 3117.6795 - fn: 45.0219 - accuracy: 0.9869 - precision: 0.9892 - recall: 0.9826 - auc: 0.9985 - prc: 0.9983 - val_loss: 0.0926 - val_tp: 842.0000 - val_fp: 27.0000 - val_tn: 1026.0000 - val_fn: 25.0000 - val_accuracy: 0.9729 - val_precision: 0.9689 - val_recall: 0.9712 - val_auc: 0.9929 - val_prc: 0.9890\n",
            "Epoch 14/50\n",
            "364/364 [==============================] - 57s 158ms/step - loss: 0.0308 - tp: 2662.6712 - fp: 32.3068 - tn: 3121.6466 - fn: 39.2877 - accuracy: 0.9878 - precision: 0.9877 - recall: 0.9858 - auc: 0.9991 - prc: 0.9987 - val_loss: 0.0927 - val_tp: 836.0000 - val_fp: 20.0000 - val_tn: 1033.0000 - val_fn: 31.0000 - val_accuracy: 0.9734 - val_precision: 0.9766 - val_recall: 0.9642 - val_auc: 0.9932 - val_prc: 0.9918\n",
            "Epoch 15/50\n",
            "364/364 [==============================] - 57s 158ms/step - loss: 0.0296 - tp: 2674.3233 - fp: 28.4164 - tn: 3116.0795 - fn: 37.0932 - accuracy: 0.9888 - precision: 0.9895 - recall: 0.9862 - auc: 0.9992 - prc: 0.9989 - val_loss: 0.0962 - val_tp: 834.0000 - val_fp: 20.0000 - val_tn: 1033.0000 - val_fn: 33.0000 - val_accuracy: 0.9724 - val_precision: 0.9766 - val_recall: 0.9619 - val_auc: 0.9927 - val_prc: 0.9916\n",
            "Epoch 16/50\n",
            "364/364 [==============================] - 57s 158ms/step - loss: 0.0332 - tp: 2678.1151 - fp: 25.8877 - tn: 3121.1068 - fn: 30.8027 - accuracy: 0.9906 - precision: 0.9909 - recall: 0.9887 - auc: 0.9987 - prc: 0.9982 - val_loss: 0.0963 - val_tp: 843.0000 - val_fp: 26.0000 - val_tn: 1027.0000 - val_fn: 24.0000 - val_accuracy: 0.9740 - val_precision: 0.9701 - val_recall: 0.9723 - val_auc: 0.9919 - val_prc: 0.9885\n",
            "Epoch 17/50\n",
            "364/364 [==============================] - 57s 158ms/step - loss: 0.0275 - tp: 2682.2959 - fp: 22.2548 - tn: 3121.7178 - fn: 29.6438 - accuracy: 0.9915 - precision: 0.9920 - recall: 0.9896 - auc: 0.9986 - prc: 0.9981 - val_loss: 0.0988 - val_tp: 835.0000 - val_fp: 20.0000 - val_tn: 1033.0000 - val_fn: 32.0000 - val_accuracy: 0.9729 - val_precision: 0.9766 - val_recall: 0.9631 - val_auc: 0.9919 - val_prc: 0.9902\n",
            "Epoch 18/50\n",
            "364/364 [==============================] - 57s 158ms/step - loss: 0.0212 - tp: 2689.8603 - fp: 19.1616 - tn: 3122.2356 - fn: 24.6548 - accuracy: 0.9931 - precision: 0.9941 - recall: 0.9910 - auc: 0.9992 - prc: 0.9989 - val_loss: 0.0977 - val_tp: 836.0000 - val_fp: 24.0000 - val_tn: 1029.0000 - val_fn: 31.0000 - val_accuracy: 0.9714 - val_precision: 0.9721 - val_recall: 0.9642 - val_auc: 0.9919 - val_prc: 0.9903\n",
            "Epoch 19/50\n",
            "364/364 [==============================] - 57s 158ms/step - loss: 0.0246 - tp: 2695.0027 - fp: 22.9616 - tn: 3116.7452 - fn: 21.2027 - accuracy: 0.9923 - precision: 0.9913 - recall: 0.9922 - auc: 0.9989 - prc: 0.9979 - val_loss: 0.0974 - val_tp: 839.0000 - val_fp: 25.0000 - val_tn: 1028.0000 - val_fn: 28.0000 - val_accuracy: 0.9724 - val_precision: 0.9711 - val_recall: 0.9677 - val_auc: 0.9921 - val_prc: 0.9887\n",
            "Restoring model weights from the end of the best epoch.\n",
            "Epoch 00019: early stopping\n"
          ],
          "name": "stdout"
        }
      ]
    },
    {
      "cell_type": "code",
      "metadata": {
        "colab": {
          "base_uri": "https://localhost:8080/"
        },
        "id": "H5dmcS0WfHys",
        "outputId": "af7fe630-bd98-4281-d968-58115c86acad"
      },
      "source": [
        "final_model.save('/content/drive/MyDrive/Colab Notebooks/Clickbait detection/model_path/simple_mm_model')"
      ],
      "execution_count": 146,
      "outputs": [
        {
          "output_type": "stream",
          "text": [
            "INFO:tensorflow:Assets written to: /content/drive/MyDrive/Colab Notebooks/Clickbait detection/model_path/simple_mm_model/assets\n"
          ],
          "name": "stdout"
        },
        {
          "output_type": "stream",
          "text": [
            "INFO:tensorflow:Assets written to: /content/drive/MyDrive/Colab Notebooks/Clickbait detection/model_path/simple_mm_model/assets\n"
          ],
          "name": "stderr"
        }
      ]
    }
  ]
}